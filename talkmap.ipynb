{
 "cells": [
  {
   "attachments": {},
   "cell_type": "markdown",
   "metadata": {},
   "source": [
    "# Leaflet cluster map of talk locations\n",
    "\n",
    "Run this from the _talks/ directory, which contains .md files of all your talks. This scrapes the location YAML field from each .md file, geolocates it with geopy/Nominatim, and uses the getorg library to output data, HTML, and Javascript for a standalone cluster map."
   ]
  },
  {
   "cell_type": "code",
   "execution_count": 3,
   "metadata": {
    "collapsed": false
   },
   "outputs": [
    {
     "name": "stdout",
     "output_type": "stream",
     "text": [
      "Collecting getorg\n",
      "  Downloading https://files.pythonhosted.org/packages/d8/81/842a17df2892d8f357929a3a937d30f36bd11998b31b75e663515e24bf50/getorg-0.3.1-py2.py3-none-any.whl\n",
      "Collecting retrying (from getorg)\n",
      "  Downloading https://files.pythonhosted.org/packages/8f/04/9e36f28be4c0532c0e9207ff9dc01fb13a2b0eb036476a213b0000837d0e/retrying-1.3.4-py3-none-any.whl\n",
      "Collecting geopy (from getorg)\n",
      "\u001b[?25l  Downloading https://files.pythonhosted.org/packages/e4/00/6313c0ffdd230164890f433019749189e0b884562bdc170e9c3a3454b3a6/geopy-2.3.0-py3-none-any.whl (119kB)\n",
      "\u001b[K     |████████████████████████████████| 122kB 3.5MB/s eta 0:00:01\n",
      "\u001b[?25hCollecting pygithub (from getorg)\n",
      "\u001b[?25l  Downloading https://files.pythonhosted.org/packages/81/99/df45c40bf862817354b06bb25b45cd01b98a6e2849969926943ecf8ffb20/PyGithub-1.59.0-py3-none-any.whl (342kB)\n",
      "\u001b[K     |████████████████████████████████| 348kB 3.1MB/s eta 0:00:01\n",
      "\u001b[?25hRequirement already satisfied, skipping upgrade: six>=1.7.0 in /Users/basvanstein/.pyenv/versions/3.8.1/lib/python3.8/site-packages (from retrying->getorg) (1.15.0)\n",
      "Collecting geographiclib<3,>=1.52 (from geopy->getorg)\n",
      "\u001b[?25l  Downloading https://files.pythonhosted.org/packages/9f/5a/a26132406f1f40cf51ea349a5f11b0a46cec02a2031ff82e391c2537247a/geographiclib-2.0-py3-none-any.whl (40kB)\n",
      "\u001b[K     |████████████████████████████████| 40kB 5.4MB/s eta 0:00:011\n",
      "\u001b[?25hCollecting pyjwt[crypto]>=2.4.0 (from pygithub->getorg)\n",
      "  Downloading https://files.pythonhosted.org/packages/c7/e8/01b2e35d81e618a8212e651e10c91660bdfda49c1d15ce66f4ca1ff43649/PyJWT-2.7.0-py3-none-any.whl\n",
      "Requirement already satisfied, skipping upgrade: requests>=2.14.0 in /Users/basvanstein/.pyenv/versions/3.8.1/lib/python3.8/site-packages (from pygithub->getorg) (2.24.0)\n",
      "Collecting pynacl>=1.4.0 (from pygithub->getorg)\n",
      "\u001b[?25l  Downloading https://files.pythonhosted.org/packages/a7/22/27582568be639dfe22ddb3902225f91f2f17ceff88ce80e4db396c8986da/PyNaCl-1.5.0.tar.gz (3.4MB)\n",
      "\u001b[K     |████████████████████████████████| 3.4MB 123kB/s eta 0:00:01\n",
      "\u001b[?25h  Installing build dependencies ... \u001b[?25ldone\n",
      "\u001b[?25h  Getting requirements to build wheel ... \u001b[?25ldone\n",
      "\u001b[?25h    Preparing wheel metadata ... \u001b[?25ldone\n",
      "\u001b[?25hCollecting deprecated (from pygithub->getorg)\n",
      "  Downloading https://files.pythonhosted.org/packages/20/8d/778b7d51b981a96554f29136cd59ca7880bf58094338085bcf2a979a0e6a/Deprecated-1.2.14-py2.py3-none-any.whl\n",
      "Collecting cryptography>=3.4.0; extra == \"crypto\" (from pyjwt[crypto]>=2.4.0->pygithub->getorg)\n",
      "\u001b[?25l  Downloading https://files.pythonhosted.org/packages/f0/f7/49c9d11c7ef9d335d6916c4360ec0c299c523cf12c502323a85379c1e7b9/cryptography-41.0.2-cp37-abi3-macosx_10_12_x86_64.whl (2.8MB)\n",
      "\u001b[K     |████████████████████████████████| 2.8MB 122kB/s eta 0:00:01\n",
      "\u001b[?25hRequirement already satisfied, skipping upgrade: urllib3!=1.25.0,!=1.25.1,<1.26,>=1.21.1 in /Users/basvanstein/.pyenv/versions/3.8.1/lib/python3.8/site-packages (from requests>=2.14.0->pygithub->getorg) (1.25.11)\n",
      "Requirement already satisfied, skipping upgrade: chardet<4,>=3.0.2 in /Users/basvanstein/.pyenv/versions/3.8.1/lib/python3.8/site-packages (from requests>=2.14.0->pygithub->getorg) (3.0.4)\n",
      "Requirement already satisfied, skipping upgrade: certifi>=2017.4.17 in /Users/basvanstein/.pyenv/versions/3.8.1/lib/python3.8/site-packages (from requests>=2.14.0->pygithub->getorg) (2020.6.20)\n",
      "Requirement already satisfied, skipping upgrade: idna<3,>=2.5 in /Users/basvanstein/.pyenv/versions/3.8.1/lib/python3.8/site-packages (from requests>=2.14.0->pygithub->getorg) (2.10)\n",
      "Requirement already satisfied, skipping upgrade: cffi>=1.4.1 in /Users/basvanstein/.pyenv/versions/3.8.1/lib/python3.8/site-packages (from pynacl>=1.4.0->pygithub->getorg) (1.14.3)\n",
      "Requirement already satisfied, skipping upgrade: wrapt<2,>=1.10 in /Users/basvanstein/.pyenv/versions/3.8.1/lib/python3.8/site-packages (from deprecated->pygithub->getorg) (1.12.1)\n",
      "Requirement already satisfied, skipping upgrade: pycparser in /Users/basvanstein/.pyenv/versions/3.8.1/lib/python3.8/site-packages (from cffi>=1.4.1->pynacl>=1.4.0->pygithub->getorg) (2.20)\n",
      "Building wheels for collected packages: pynacl\n",
      "  Building wheel for pynacl (PEP 517) ... \u001b[?25ldone\n",
      "\u001b[?25h  Created wheel for pynacl: filename=PyNaCl-1.5.0-cp38-cp38-macosx_10_15_x86_64.whl size=310904 sha256=f9e4218517130dd4ccb3afa73614f87efa869b09ea19c4110c946e4b9b01ac73\n",
      "  Stored in directory: /Users/basvanstein/Library/Caches/pip/wheels/2f/01/7f/11d382bf954a093a55ed9581fd66c3b45b98769f292367b4d3\n",
      "Successfully built pynacl\n",
      "Installing collected packages: retrying, geographiclib, geopy, cryptography, pyjwt, pynacl, deprecated, pygithub, getorg\n",
      "Successfully installed cryptography-41.0.2 deprecated-1.2.14 geographiclib-2.0 geopy-2.3.0 getorg-0.3.1 pygithub-1.59.0 pyjwt-2.7.0 pynacl-1.5.0 retrying-1.3.4\n",
      "\u001b[33mWARNING: You are using pip version 19.2.3, however version 23.1.2 is available.\n",
      "You should consider upgrading via the 'pip install --upgrade pip' command.\u001b[0m\n",
      "Iywidgets and ipyleaflet support disabled. You must be in a Jupyter notebook to use this feature.\n",
      "Error raised:\n",
      "No module named 'ipyleaflet'\n",
      "Check that you have enabled ipyleaflet in Jupyter with:\n",
      "    jupyter nbextension enable --py ipyleaflet\n"
     ]
    }
   ],
   "source": [
    "!pip install getorg --upgrade\n",
    "import glob\n",
    "import getorg\n",
    "from geopy import Nominatim"
   ]
  },
  {
   "cell_type": "code",
   "execution_count": 4,
   "metadata": {
    "collapsed": false
   },
   "outputs": [],
   "source": [
    "g = glob.glob(\"_talks/*.md\")"
   ]
  },
  {
   "cell_type": "code",
   "execution_count": 6,
   "metadata": {
    "collapsed": true
   },
   "outputs": [],
   "source": [
    "geocoder = Nominatim(user_agent=\"mywebsite\")\n",
    "location_dict = {}\n",
    "location = \"\"\n",
    "permalink = \"\"\n",
    "title = \"\""
   ]
  },
  {
   "cell_type": "code",
   "execution_count": 8,
   "metadata": {
    "collapsed": false
   },
   "outputs": [
    {
     "name": "stdout",
     "output_type": "stream",
     "text": [
      "CHANGELOG.md\n",
      " \n",
      " None\n",
      "README.md\n",
      " \n",
      " None\n",
      "CONTRIBUTING.md\n",
      " \n",
      " None\n"
     ]
    }
   ],
   "source": [
    "\n",
    "for file in g:\n",
    "    print(file)\n",
    "    with open(file, 'r') as f:\n",
    "        lines = f.read()\n",
    "        if lines.find('location: \"') > 1:\n",
    "            loc_start = lines.find('location: \"') + 11\n",
    "            lines_trim = lines[loc_start:]\n",
    "            loc_end = lines_trim.find('\"')\n",
    "            location = lines_trim[:loc_end]\n",
    "                            \n",
    "           \n",
    "        location_dict[location] = geocoder.geocode(location)\n",
    "        print(location, \"\\n\", location_dict[location])\n"
   ]
  },
  {
   "cell_type": "code",
   "execution_count": 5,
   "metadata": {
    "collapsed": false
   },
   "outputs": [
    {
     "data": {
      "text/plain": [
       "'Written map to ../talkmap/'"
      ]
     },
     "execution_count": 5,
     "metadata": {},
     "output_type": "execute_result"
    }
   ],
   "source": [
    "m = getorg.orgmap.create_map_obj()\n",
    "getorg.orgmap.output_html_cluster_map(location_dict, folder_name=\"../talkmap\", hashed_usernames=False)"
   ]
  },
  {
   "cell_type": "code",
   "execution_count": null,
   "metadata": {
    "collapsed": true
   },
   "outputs": [],
   "source": []
  }
 ],
 "metadata": {
  "anaconda-cloud": {},
  "kernelspec": {
   "display_name": "Python 3",
   "language": "python",
   "name": "python3"
  },
  "language_info": {
   "codemirror_mode": {
    "name": "ipython",
    "version": 3
   },
   "file_extension": ".py",
   "mimetype": "text/x-python",
   "name": "python",
   "nbconvert_exporter": "python",
   "pygments_lexer": "ipython3",
   "version": "3.8.1"
  }
 },
 "nbformat": 4,
 "nbformat_minor": 0
}
